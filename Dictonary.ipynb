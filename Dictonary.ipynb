{
 "cells": [
  {
   "cell_type": "code",
   "execution_count": 17,
   "id": "d36fa6cf",
   "metadata": {},
   "outputs": [
    {
     "name": "stdout",
     "output_type": "stream",
     "text": [
      "{}\n",
      "<class 'dict'>\n"
     ]
    }
   ],
   "source": [
    "d1={}\n",
    "print(d1)\n",
    "print(type(d1))"
   ]
  },
  {
   "cell_type": "code",
   "execution_count": 7,
   "id": "fd32f140",
   "metadata": {},
   "outputs": [
    {
     "name": "stdout",
     "output_type": "stream",
     "text": [
      "{'Name': 'Rakesh', 'Roll NO': 21, 'Marks': 100}\n",
      "<class 'dict'>\n"
     ]
    }
   ],
   "source": [
    "d1={\"Name\":\"Rakesh\",\"Roll NO\":21, \"Marks\":100}\n",
    "print(d1)\n",
    "print(type(d1))"
   ]
  },
  {
   "cell_type": "code",
   "execution_count": 9,
   "id": "a764c544",
   "metadata": {},
   "outputs": [
    {
     "name": "stdout",
     "output_type": "stream",
     "text": [
      "{'red': 10, 'Blue': 20, 'orange': 30}\n",
      "<class 'dict'>\n"
     ]
    }
   ],
   "source": [
    "d2={\"red\":10, \"Blue\":20,\"orange\":30}\n",
    "print(d2)\n",
    "print(type(d2))"
   ]
  },
  {
   "cell_type": "code",
   "execution_count": 12,
   "id": "14613613",
   "metadata": {},
   "outputs": [
    {
     "ename": "AttributeError",
     "evalue": "'dict' object has no attribute 'append'",
     "output_type": "error",
     "traceback": [
      "\u001b[1;31m---------------------------------------------------------------------------\u001b[0m",
      "\u001b[1;31mAttributeError\u001b[0m                            Traceback (most recent call last)",
      "Input \u001b[1;32mIn [12]\u001b[0m, in \u001b[0;36m<cell line: 1>\u001b[1;34m()\u001b[0m\n\u001b[1;32m----> 1\u001b[0m \u001b[43md1\u001b[49m\u001b[38;5;241;43m.\u001b[39;49m\u001b[43mappend\u001b[49m(d2)\n",
      "\u001b[1;31mAttributeError\u001b[0m: 'dict' object has no attribute 'append'"
     ]
    }
   ],
   "source": [
    "d1.append(d2)"
   ]
  },
  {
   "cell_type": "code",
   "execution_count": 19,
   "id": "ce1f83c7",
   "metadata": {},
   "outputs": [
    {
     "name": "stdout",
     "output_type": "stream",
     "text": [
      "{'red': 'blue', 'orange': 30}\n",
      "<class 'dict'>\n"
     ]
    }
   ],
   "source": [
    "d2={\"red\":\"red\", \"red\":\"blue\",\"orange\":30}\n",
    "print(d2)\n",
    "print(type(d2))"
   ]
  },
  {
   "cell_type": "code",
   "execution_count": 25,
   "id": "714eb14d",
   "metadata": {},
   "outputs": [
    {
     "data": {
      "text/plain": [
       "['red']"
      ]
     },
     "execution_count": 25,
     "metadata": {},
     "output_type": "execute_result"
    }
   ],
   "source": [
    "#Accesing element of dictionary\n",
    "d2=['red']\n",
    "d2"
   ]
  },
  {
   "cell_type": "code",
   "execution_count": 29,
   "id": "38495290",
   "metadata": {},
   "outputs": [],
   "source": [
    "#Add key :value pair\n",
    "d2['qual']=\"B.E\""
   ]
  },
  {
   "cell_type": "code",
   "execution_count": 32,
   "id": "d1519e01",
   "metadata": {},
   "outputs": [
    {
     "name": "stdout",
     "output_type": "stream",
     "text": [
      "{'red': 'blue', 'orange': 30}\n",
      "<class 'dict'>\n"
     ]
    }
   ],
   "source": [
    "d2={\"red\":\"red\", \"red\":\"blue\",\"orange\":30}\n",
    "print(d2)\n",
    "print(type(d2))"
   ]
  },
  {
   "cell_type": "code",
   "execution_count": 34,
   "id": "34f8660f",
   "metadata": {},
   "outputs": [
    {
     "name": "stdout",
     "output_type": "stream",
     "text": [
      "{'red': 'blue', 'orange': 30, 'qual': 'B.E'}\n",
      "<class 'dict'>\n"
     ]
    }
   ],
   "source": [
    "d2['qual']=\"B.E\"\n",
    "print(d2)\n",
    "print(type(d2))"
   ]
  },
  {
   "cell_type": "code",
   "execution_count": 35,
   "id": "9d077f24",
   "metadata": {},
   "outputs": [
    {
     "data": {
      "text/plain": [
       "{'name': 'pratil'}"
      ]
     },
     "execution_count": 35,
     "metadata": {},
     "output_type": "execute_result"
    }
   ],
   "source": [
    "e1={\"name\":\"pratil\"}\n",
    "e1"
   ]
  },
  {
   "cell_type": "code",
   "execution_count": 36,
   "id": "0866ba76",
   "metadata": {},
   "outputs": [
    {
     "data": {
      "text/plain": [
       "{'name': 'pratil', 'salary': 5000, 'dep': 'acc'}"
      ]
     },
     "execution_count": 36,
     "metadata": {},
     "output_type": "execute_result"
    }
   ],
   "source": [
    "e1.update({\"salary\":5000,\"dep\":\"acc\"})\n",
    "e1"
   ]
  },
  {
   "cell_type": "code",
   "execution_count": 37,
   "id": "1b77ded5",
   "metadata": {},
   "outputs": [
    {
     "name": "stdout",
     "output_type": "stream",
     "text": [
      "None\n"
     ]
    }
   ],
   "source": [
    "print(d1.get(\"Age\"))\n"
   ]
  },
  {
   "cell_type": "code",
   "execution_count": 42,
   "id": "a18e1770",
   "metadata": {},
   "outputs": [
    {
     "data": {
      "text/plain": [
       "{'name': 'pratil', 'salary': 6000.0, 'dep': 'acc'}"
      ]
     },
     "execution_count": 42,
     "metadata": {},
     "output_type": "execute_result"
    }
   ],
   "source": [
    "e1['salary']=5000+(5000*0.20)\n",
    "e1"
   ]
  },
  {
   "cell_type": "code",
   "execution_count": 45,
   "id": "be38588e",
   "metadata": {},
   "outputs": [
    {
     "data": {
      "text/plain": [
       "{'name': 'Rakesh', 'salary': 6000.0, 'dep': 'acc'}"
      ]
     },
     "execution_count": 45,
     "metadata": {},
     "output_type": "execute_result"
    }
   ],
   "source": [
    "e1['name']=\"Rakesh\"\n",
    "e1"
   ]
  },
  {
   "cell_type": "code",
   "execution_count": 48,
   "id": "024337f1",
   "metadata": {},
   "outputs": [
    {
     "data": {
      "text/plain": [
       "{'teams': ['mi', 'csk', 'rcb', 'rr'], 'wins': [5, 4, 0, 1]}"
      ]
     },
     "execution_count": 48,
     "metadata": {},
     "output_type": "execute_result"
    }
   ],
   "source": [
    "data={\"teams\":[\"mi\",\"csk\",\"rcb\",\"rr\"],\"wins\":[5,4,0,1]}\n",
    "data"
   ]
  },
  {
   "cell_type": "code",
   "execution_count": 49,
   "id": "85b347f2",
   "metadata": {},
   "outputs": [
    {
     "data": {
      "text/plain": [
       "['mi', 'csk', 'rcb', 'rr']"
      ]
     },
     "execution_count": 49,
     "metadata": {},
     "output_type": "execute_result"
    }
   ],
   "source": [
    "data[\"teams\"]"
   ]
  },
  {
   "cell_type": "code",
   "execution_count": 51,
   "id": "d49e34df",
   "metadata": {},
   "outputs": [
    {
     "data": {
      "text/plain": [
       "[5, 4, 0, 1]"
      ]
     },
     "execution_count": 51,
     "metadata": {},
     "output_type": "execute_result"
    }
   ],
   "source": [
    "data[\"wins\"]"
   ]
  },
  {
   "cell_type": "code",
   "execution_count": 53,
   "id": "936f8950",
   "metadata": {},
   "outputs": [
    {
     "data": {
      "text/plain": [
       "'mi'"
      ]
     },
     "execution_count": 53,
     "metadata": {},
     "output_type": "execute_result"
    }
   ],
   "source": [
    "data['teams'][0]"
   ]
  },
  {
   "cell_type": "code",
   "execution_count": 54,
   "id": "ab2a9f3a",
   "metadata": {},
   "outputs": [
    {
     "data": {
      "text/plain": [
       "5"
      ]
     },
     "execution_count": 54,
     "metadata": {},
     "output_type": "execute_result"
    }
   ],
   "source": [
    "data['wins'][0]"
   ]
  },
  {
   "cell_type": "code",
   "execution_count": 56,
   "id": "6e08dfcc",
   "metadata": {},
   "outputs": [
    {
     "data": {
      "text/plain": [
       "'rcb'"
      ]
     },
     "execution_count": 56,
     "metadata": {},
     "output_type": "execute_result"
    }
   ],
   "source": [
    "data['teams'][2]"
   ]
  },
  {
   "cell_type": "code",
   "execution_count": 57,
   "id": "96ef8718",
   "metadata": {},
   "outputs": [
    {
     "data": {
      "text/plain": [
       "0"
      ]
     },
     "execution_count": 57,
     "metadata": {},
     "output_type": "execute_result"
    }
   ],
   "source": [
    "data['wins'][2]"
   ]
  },
  {
   "cell_type": "code",
   "execution_count": 58,
   "id": "47cacf08",
   "metadata": {},
   "outputs": [
    {
     "data": {
      "text/plain": [
       "4"
      ]
     },
     "execution_count": 58,
     "metadata": {},
     "output_type": "execute_result"
    }
   ],
   "source": [
    "data['teams'][1]\n",
    "data['wins'][1]"
   ]
  },
  {
   "cell_type": "code",
   "execution_count": 61,
   "id": "afa5967f",
   "metadata": {},
   "outputs": [
    {
     "name": "stdout",
     "output_type": "stream",
     "text": [
      "{'Name': 'Rakesh', 'Roll NO': 21, 'Marks': 100}\n",
      "<class 'dict'>\n"
     ]
    }
   ],
   "source": [
    "#Deletation method\n",
    "d1={\"Name\":\"Rakesh\",\"Roll NO\":21, \"Marks\":100}\n",
    "print(d1)\n",
    "print(type(d1))"
   ]
  },
  {
   "cell_type": "code",
   "execution_count": 62,
   "id": "acf7ae5e",
   "metadata": {},
   "outputs": [
    {
     "data": {
      "text/plain": [
       "21"
      ]
     },
     "execution_count": 62,
     "metadata": {},
     "output_type": "execute_result"
    }
   ],
   "source": [
    "d1.pop(\"Roll NO\")"
   ]
  },
  {
   "cell_type": "code",
   "execution_count": 63,
   "id": "babe015b",
   "metadata": {},
   "outputs": [
    {
     "data": {
      "text/plain": [
       "{'Name': 'Rakesh', 'Marks': 100}"
      ]
     },
     "execution_count": 63,
     "metadata": {},
     "output_type": "execute_result"
    }
   ],
   "source": [
    "d1"
   ]
  },
  {
   "cell_type": "code",
   "execution_count": 65,
   "id": "b8b8498e",
   "metadata": {},
   "outputs": [
    {
     "data": {
      "text/plain": [
       "{}"
      ]
     },
     "execution_count": 65,
     "metadata": {},
     "output_type": "execute_result"
    }
   ],
   "source": [
    "d1.clear()\n",
    "d1"
   ]
  },
  {
   "cell_type": "code",
   "execution_count": 66,
   "id": "6178692e",
   "metadata": {},
   "outputs": [],
   "source": [
    "del d1\n"
   ]
  },
  {
   "cell_type": "code",
   "execution_count": 67,
   "id": "a00d6c5a",
   "metadata": {},
   "outputs": [
    {
     "ename": "NameError",
     "evalue": "name 'd1' is not defined",
     "output_type": "error",
     "traceback": [
      "\u001b[1;31m---------------------------------------------------------------------------\u001b[0m",
      "\u001b[1;31mNameError\u001b[0m                                 Traceback (most recent call last)",
      "Input \u001b[1;32mIn [67]\u001b[0m, in \u001b[0;36m<cell line: 1>\u001b[1;34m()\u001b[0m\n\u001b[1;32m----> 1\u001b[0m \u001b[43md1\u001b[49m\n",
      "\u001b[1;31mNameError\u001b[0m: name 'd1' is not defined"
     ]
    }
   ],
   "source": [
    "d1"
   ]
  },
  {
   "cell_type": "code",
   "execution_count": 68,
   "id": "495d5e3c",
   "metadata": {},
   "outputs": [
    {
     "data": {
      "text/plain": [
       "{'name': 'Rakesh', 'salary': 6000.0, 'dep': 'acc'}"
      ]
     },
     "execution_count": 68,
     "metadata": {},
     "output_type": "execute_result"
    }
   ],
   "source": [
    "#Built in Functions\n",
    "\n",
    "e1"
   ]
  },
  {
   "cell_type": "code",
   "execution_count": 69,
   "id": "20e3a4ca",
   "metadata": {},
   "outputs": [
    {
     "data": {
      "text/plain": [
       "dict_keys(['name', 'salary', 'dep'])"
      ]
     },
     "execution_count": 69,
     "metadata": {},
     "output_type": "execute_result"
    }
   ],
   "source": [
    "e1.keys()"
   ]
  },
  {
   "cell_type": "code",
   "execution_count": 70,
   "id": "297cbd30",
   "metadata": {},
   "outputs": [
    {
     "data": {
      "text/plain": [
       "dict_values(['Rakesh', 6000.0, 'acc'])"
      ]
     },
     "execution_count": 70,
     "metadata": {},
     "output_type": "execute_result"
    }
   ],
   "source": [
    "e1.values()"
   ]
  },
  {
   "cell_type": "code",
   "execution_count": 71,
   "id": "d4ad628a",
   "metadata": {},
   "outputs": [
    {
     "data": {
      "text/plain": [
       "dict_items([('name', 'Rakesh'), ('salary', 6000.0), ('dep', 'acc')])"
      ]
     },
     "execution_count": 71,
     "metadata": {},
     "output_type": "execute_result"
    }
   ],
   "source": [
    "e1.items()"
   ]
  },
  {
   "cell_type": "code",
   "execution_count": 72,
   "id": "5e7008de",
   "metadata": {},
   "outputs": [],
   "source": [
    "e2=e1.copy()"
   ]
  },
  {
   "cell_type": "code",
   "execution_count": 73,
   "id": "ca649e0d",
   "metadata": {},
   "outputs": [
    {
     "data": {
      "text/plain": [
       "{'name': 'Rakesh', 'salary': 6000.0, 'dep': 'acc'}"
      ]
     },
     "execution_count": 73,
     "metadata": {},
     "output_type": "execute_result"
    }
   ],
   "source": [
    "e2"
   ]
  },
  {
   "cell_type": "code",
   "execution_count": null,
   "id": "2d0cce18",
   "metadata": {},
   "outputs": [],
   "source": []
  }
 ],
 "metadata": {
  "kernelspec": {
   "display_name": "Python 3 (ipykernel)",
   "language": "python",
   "name": "python3"
  },
  "language_info": {
   "codemirror_mode": {
    "name": "ipython",
    "version": 3
   },
   "file_extension": ".py",
   "mimetype": "text/x-python",
   "name": "python",
   "nbconvert_exporter": "python",
   "pygments_lexer": "ipython3",
   "version": "3.9.12"
  }
 },
 "nbformat": 4,
 "nbformat_minor": 5
}
